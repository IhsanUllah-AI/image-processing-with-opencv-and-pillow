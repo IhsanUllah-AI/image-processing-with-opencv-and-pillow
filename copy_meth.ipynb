{
 "cells": [
  {
   "cell_type": "code",
   "execution_count": 1,
   "metadata": {},
   "outputs": [
    {
     "name": "stdout",
     "output_type": "stream",
     "text": [
      "id of img= 1474755042288\n",
      "id of A= 1474755042288\n",
      "id of B= 1475000540624\n"
     ]
    }
   ],
   "source": [
    "import cv2\n",
    "import numpy as np\n",
    "img=cv2.imread('a.jpg',cv2.IMREAD_GRAYSCALE)\n",
    "#every image is id in memory \n",
    "print('id of img=',id(img))\n",
    "#this type copying is only share memory adres now both these refer to same loc\n",
    "A=img\n",
    "#will gave same id of img when we change in one will change the other bcs both refer to same addres\n",
    "print('id of A=',id(A))\n",
    "#will copy image to B and also give new  id to B  one chnge will not effect other\n",
    "B=img.copy()\n",
    "print('id of B=',id(B)) \n",
    "##make window normal to display img image \n",
    "cv2.namedWindow(\"B\",cv2.WINDOW_NORMAL) #will make window normal to display image in normal as image as \n",
    "cv2.imshow(\"B\",B) \n",
    "cv2.waitKey(0)\n",
    "cv2.destroyAllWindows()"
   ]
  },
  {
   "cell_type": "code",
   "execution_count": 2,
   "metadata": {},
   "outputs": [],
   "source": [
    "#let do some change in A is this change img image\n",
    "A-=50 #will decrease intensity by 50 chnage A will directly effect img \n",
    "#make window normal to display A image \n",
    "cv2.namedWindow(\"A\",cv2.WINDOW_NORMAL)\n",
    "cv2.imshow(\"A\",A)\n",
    "cv2.waitKey(0)\n",
    "cv2.destroyAllWindows()\n",
    "#make window normal to display img image \n",
    "cv2.namedWindow(\"img\",cv2.WINDOW_NORMAL)\n",
    "cv2.imshow(\"img\",img)\n",
    "cv2.waitKey(0)\n",
    "cv2.destroyAllWindows()"
   ]
  },
  {
   "cell_type": "code",
   "execution_count": 3,
   "metadata": {},
   "outputs": [],
   "source": [
    "#let do some change in img is this change A image\n",
    "img+=30 #will increase intensity by 30 chnage img will directly effect A  \n",
    "#make window normal to display A image \n",
    "cv2.namedWindow(\"A\",cv2.WINDOW_NORMAL)\n",
    "cv2.imshow(\"A\",A)\n",
    "cv2.waitKey(0)\n",
    "cv2.destroyAllWindows()\n",
    "#make window normal to display img image \n",
    "cv2.namedWindow(\"img\",cv2.WINDOW_NORMAL)\n",
    "cv2.imshow(\"img\",img)\n",
    "cv2.waitKey(0)\n",
    "cv2.destroyAllWindows()"
   ]
  }
 ],
 "metadata": {
  "kernelspec": {
   "display_name": "Python 3",
   "language": "python",
   "name": "python3"
  },
  "language_info": {
   "codemirror_mode": {
    "name": "ipython",
    "version": 3
   },
   "file_extension": ".py",
   "mimetype": "text/x-python",
   "name": "python",
   "nbconvert_exporter": "python",
   "pygments_lexer": "ipython3",
   "version": "3.11.9"
  }
 },
 "nbformat": 4,
 "nbformat_minor": 2
}
